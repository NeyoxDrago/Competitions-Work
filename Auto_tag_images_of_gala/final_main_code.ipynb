{
  "nbformat": 4,
  "nbformat_minor": 0,
  "metadata": {
    "accelerator": "GPU",
    "colab": {
      "name": "final_main_code.ipynb",
      "provenance": [],
      "collapsed_sections": [],
      "machine_shape": "hm"
    },
    "kernelspec": {
      "display_name": "Python 3",
      "language": "python",
      "name": "python3"
    },
    "language_info": {
      "codemirror_mode": {
        "name": "ipython",
        "version": 3
      },
      "file_extension": ".py",
      "mimetype": "text/x-python",
      "name": "python",
      "nbconvert_exporter": "python",
      "pygments_lexer": "ipython3",
      "version": "3.6.8"
    }
  },
  "cells": [
    {
      "cell_type": "code",
      "metadata": {
        "colab_type": "code",
        "id": "UKPxAtWw__j2",
        "colab": {}
      },
      "source": [
        "import keras\n",
        "import os\n",
        "\n",
        "def restart_runtime():\n",
        "    os.kill(os.getpid(), 9)\n",
        "\n",
        "if keras.__version__ == \"2.2.5\":\n",
        "    !pip install --upgrade keras\n",
        "    restart_runtime()\n",
        "  \n",
        "keras.__version__"
      ],
      "execution_count": 0,
      "outputs": []
    },
    {
      "cell_type": "code",
      "metadata": {
        "colab_type": "code",
        "id": "ERwqejUrvliL",
        "colab": {}
      },
      "source": [
        "import os \n",
        "if not os.path.exists(\"auto_tag_gala\"):\n",
        "  !git clone https://ARprashant@bitbucket.org/ARprashant/auto_tag_gala.git\n",
        "  \n",
        "!cp -rf /content/auto_tag_gala/dataset /content/"
      ],
      "execution_count": 0,
      "outputs": []
    },
    {
      "cell_type": "code",
      "metadata": {
        "colab_type": "code",
        "id": "Lm6yKzaQ3by-",
        "colab": {}
      },
      "source": [
        "import pandas as pd\n",
        "import numpy as np\n",
        "import cv2\n",
        "train = pd.read_csv(\"dataset/train.csv\")\n",
        "test = pd.read_csv(\"dataset/test.csv\")\n",
        "train.head()"
      ],
      "execution_count": 0,
      "outputs": []
    },
    {
      "cell_type": "code",
      "metadata": {
        "colab_type": "code",
        "id": "6f91SMHX5giZ",
        "colab": {}
      },
      "source": [
        "train['Image_path'] = train['Image'].apply(lambda x:\"dataset/Train Images/\"+x)\n",
        "test['Image_path'] = test['Image'].apply(lambda x:\"dataset/Test Images/\"+x)"
      ],
      "execution_count": 0,
      "outputs": []
    },
    {
      "cell_type": "code",
      "metadata": {
        "colab_type": "code",
        "id": "p9n6OFZh5tDf",
        "colab": {}
      },
      "source": [
        "train['image_shape'] = train[\"Image_path\"].apply(lambda x:cv2.imread(x).shape)\n",
        "test['image_shape'] = test[\"Image_path\"].apply(lambda x:cv2.imread(x).shape)"
      ],
      "execution_count": 0,
      "outputs": []
    },
    {
      "cell_type": "code",
      "metadata": {
        "colab_type": "code",
        "id": "suCYYNgE0QG0",
        "colab": {}
      },
      "source": [
        "print(\"Training Images\")\n",
        "print(\"Maximum Size : \",max(train.image_shape))\n",
        "print(\"Minimum Size : \",min(train.image_shape))\n",
        "\n",
        "print(\"Testing Images\")\n",
        "print(\"Maximum Size : \",max(test.image_shape))\n",
        "print(\"Minimum Size : \",min(test.image_shape))"
      ],
      "execution_count": 0,
      "outputs": []
    },
    {
      "cell_type": "code",
      "metadata": {
        "colab_type": "code",
        "id": "-bdX8RFJ79UA",
        "colab": {}
      },
      "source": [
        "from keras.layers import Conv2D , BatchNormalization , Dropout , Dense, Activation , Input , MaxPool2D , GlobalAvgPool2D , Flatten\n",
        "from keras.models import Model\n",
        "from keras.utils import to_categorical"
      ],
      "execution_count": 0,
      "outputs": []
    },
    {
      "cell_type": "code",
      "metadata": {
        "colab_type": "code",
        "id": "OAVwZMub8tsw",
        "colab": {}
      },
      "source": [
        "from sklearn.preprocessing import LabelEncoder"
      ],
      "execution_count": 0,
      "outputs": []
    },
    {
      "cell_type": "code",
      "metadata": {
        "colab_type": "code",
        "id": "DBJ9hP1q9LEm",
        "colab": {}
      },
      "source": [
        "encoder  = LabelEncoder()\n",
        "classes = encoder.fit_transform(train.Class)"
      ],
      "execution_count": 0,
      "outputs": []
    },
    {
      "cell_type": "code",
      "metadata": {
        "colab_type": "code",
        "id": "3A8It7sp9TKm",
        "colab": {}
      },
      "source": [
        "train['encoded_class'] = classes"
      ],
      "execution_count": 0,
      "outputs": []
    },
    {
      "cell_type": "code",
      "metadata": {
        "colab_type": "code",
        "id": "LCK37Pl5wyff",
        "colab": {}
      },
      "source": [
        "import seaborn as sns\n",
        "sns.countplot(train.encoded_class)"
      ],
      "execution_count": 0,
      "outputs": []
    },
    {
      "cell_type": "code",
      "metadata": {
        "colab_type": "code",
        "id": "4z7Z2MjYqb5S",
        "colab": {}
      },
      "source": [
        "!rm -rf train_augmented val_augmented"
      ],
      "execution_count": 0,
      "outputs": []
    },
    {
      "cell_type": "code",
      "metadata": {
        "colab_type": "code",
        "id": "vlXTtjxYoZXx",
        "colab": {}
      },
      "source": [
        "from sklearn.model_selection import train_test_split\n",
        "x_train,x_val = train_test_split(train,test_size=0.2,random_state=111,shuffle=True)"
      ],
      "execution_count": 0,
      "outputs": []
    },
    {
      "cell_type": "code",
      "metadata": {
        "colab_type": "code",
        "id": "rpLfo5NtCTD-",
        "colab": {}
      },
      "source": [
        "from keras.preprocessing.image import ImageDataGenerator\n",
        "\n",
        "datagen = ImageDataGenerator( \n",
        "  rescale=1. / 255,\n",
        "  rotation_range = 30,\n",
        "  brightness_range=[0.65,1.1],\n",
        "  shear_range=0.15,\n",
        "  zoom_range=0.25,\n",
        "  featurewise_std_normalization=True,\n",
        "  horizontal_flip = True,\n",
        "  vertical_flip=True,\n",
        "  # samplewise_std_normalization=True\n",
        ")"
      ],
      "execution_count": 0,
      "outputs": []
    },
    {
      "cell_type": "code",
      "metadata": {
        "colab_type": "code",
        "id": "y3-nQLvLYsFF",
        "colab": {}
      },
      "source": [
        "from keras.preprocessing.image import load_img , img_to_array\n",
        "from numpy import expand_dims\n",
        "from google.colab.patches import cv2_imshow\n",
        "import os\n",
        "\n",
        "from tqdm import tqdm\n",
        "\n",
        "x_train_data,y_train_data,x_test_data,y_test_data =[],[],[],[]\n",
        "\n",
        "for data,folder in list(zip([x_train,x_val],[\"train\",\"val\"])):\n",
        "  for i ,row in data.iterrows():\n",
        "    path = row['Image_path']\n",
        "    image = load_img(path)\n",
        "    image = image.resize((224,224))\n",
        "    if folder == \"train\":\n",
        "        x_train_data.append(img_to_array(image))\n",
        "        y_train_data.append(encoder.transform([row['Class']])[0])\n",
        "    else:\n",
        "        x_test_data.append(img_to_array(image))\n",
        "        y_test_data.append(encoder.transform([row['Class']])[0])\n",
        " \n",
        "  print(\"Completed Createing Data\")"
      ],
      "execution_count": 0,
      "outputs": []
    },
    {
      "cell_type": "markdown",
      "metadata": {
        "colab_type": "text",
        "id": "BRQNsaz7YG8K"
      },
      "source": [
        "Checking Class weights"
      ]
    },
    {
      "cell_type": "code",
      "metadata": {
        "colab_type": "code",
        "id": "aw1QDXhEShQ5",
        "colab": {}
      },
      "source": [
        "from sklearn.utils import class_weight\n",
        "class_weights = class_weight.compute_class_weight('balanced',np.unique(train.Class),train.Class)\n",
        "class_weights"
      ],
      "execution_count": 0,
      "outputs": []
    },
    {
      "cell_type": "code",
      "metadata": {
        "colab_type": "code",
        "id": "rI-KvA_gLR6I",
        "colab": {}
      },
      "source": [
        "print(np.unique(y_train_data,return_counts=True))\n",
        "print(np.unique(y_test_data,return_counts=True))"
      ],
      "execution_count": 0,
      "outputs": []
    },
    {
      "cell_type": "code",
      "metadata": {
        "colab_type": "code",
        "id": "d4RPOdv6JohF",
        "colab": {}
      },
      "source": [
        "from keras.utils import to_categorical\n",
        "y_train_updated = to_categorical(y_train_data,num_classes=4)\n",
        "y_test_updated =  to_categorical(y_test_data,num_classes=4)\n",
        "y_train_updated.shape"
      ],
      "execution_count": 0,
      "outputs": []
    },
    {
      "cell_type": "code",
      "metadata": {
        "colab_type": "code",
        "id": "Pris8owBg0_P",
        "colab": {}
      },
      "source": [
        "from keras.models import Model,Sequential\n",
        "from keras.layers import Dense,Dropout,BatchNormalization,Conv2D,MaxPool2D,Activation,GlobalMaxPooling2D , GlobalAvgPool2D\n",
        "from keras.applications.vgg16 import VGG16\n",
        "from keras.applications.densenet import DenseNet121 ,DenseNet169 , DenseNet201\n",
        "from keras.applications.resnet import ResNet50 , ResNet101, ResNet152\n",
        "from keras.applications.vgg19 import VGG19\n",
        "from keras.applications.inception_v3 import InceptionV3\n",
        "from keras.applications.mobilenet_v2 import MobileNetV2\n",
        "from keras.applications.resnet_v2 import ResNet101V2 ,ResNet152V2 , ResNet50V2\n",
        "from keras.applications.inception_resnet_v2 import InceptionResNetV2\n",
        "from keras.applications.xception import Xception\n",
        "from keras.layers import Concatenate\n",
        "from keras.applications.nasnet import NASNetLarge ,NASNetMobile"
      ],
      "execution_count": 0,
      "outputs": []
    },
    {
      "cell_type": "code",
      "metadata": {
        "colab_type": "code",
        "id": "2J2o3NC0JH2S",
        "colab": {}
      },
      "source": [
        "base1 = Xception(include_top=False,\n",
        "                 weights=\"imagenet\",\n",
        "                 input_shape=(224,224,3),\n",
        "                 pooling=\"avg\")\n",
        "\n",
        "base2 = InceptionResNetV2(include_top=False,\n",
        "                 weights=\"imagenet\",\n",
        "                 input_shape=(224,224,3),\n",
        "                 pooling=\"avg\")\n",
        "\n",
        "base3 = InceptionV3(include_top=False,\n",
        "                 weights=\"imagenet\",\n",
        "                 input_shape=(224,224,3),\n",
        "                 pooling=\"avg\")\n",
        "\n",
        "base4 = DenseNet201(include_top=False,\n",
        "                 weights=\"imagenet\",\n",
        "                 input_shape=(224,224,3),\n",
        "                 pooling=\"avg\")\n",
        "\n",
        "base5 = NASNetMobile(include_top=False,\n",
        "                 weights=\"imagenet\",\n",
        "                 input_shape=(224,224,3),\n",
        "                 pooling=\"avg\")\n",
        "\n",
        "base6 = ResNet152V2(include_top=False,\n",
        "                 weights=\"imagenet\",\n",
        "                 input_shape=(224,224,3),\n",
        "                 pooling=\"avg\")\n",
        "\n",
        "\n",
        "base1.trainable = False\n",
        "base2.trainable = False\n",
        "base3.trainable = False\n",
        "base4.trainable = False\n",
        "base5.trainable = False\n",
        "base6.trainable = False\n",
        "\n",
        "\n",
        "input = Input(shape=(224,224,3))\n",
        "\n",
        "output1 = base1(input)\n",
        "output2 = base2(input)\n",
        "output3 = base3(input)\n",
        "output4 = base4(input)\n",
        "output5 = base5(input)\n",
        "output6 = base6(input)\n",
        "\n",
        "def out(output):\n",
        "  output = BatchNormalization()(output)\n",
        "  output = Dropout(0.15)(output)\n",
        "\n",
        "  output = Dense(1024,activation=\"relu\")(output)\n",
        "  output = BatchNormalization()(output)\n",
        "  output = Dropout(0.2)(output)\n",
        "\n",
        "  output = Dense(256,activation=\"relu\")(output)\n",
        "  output = BatchNormalization()(output)\n",
        "  output = Dropout(0.2)(output)\n",
        "\n",
        "  output = Dense(64,activation=\"relu\")(output)\n",
        "  output = BatchNormalization()(output)\n",
        "  output = Dropout(0.2)(output)\n",
        "\n",
        "  return output\n",
        "\n",
        "output1 = out(output1)\n",
        "# output1_ = Dense(4,activation=\"softmax\")(output1)\n",
        "output2 = out(output2)\n",
        "output_1 = Concatenate()([output1,output2])\n",
        "# output2_ = Dense(4,activation=\"softmax\")(output2)\n",
        "output3 = out(output3)\n",
        "# output3_ = Dense(4,activation=\"softmax\")(output3)\n",
        "output4 = out(output4)\n",
        "output_2 = Concatenate()([output3,output4])\n",
        "# output4_ = Dense(4,activation=\"softmax\")(output4)\n",
        "output5 = out(output5)\n",
        "# output5_ = Dense(4,activation=\"softmax\")(output5)\n",
        "output6 = out(output6)\n",
        "output_3 = Concatenate()([output5,output6])\n",
        "# output6_ = Dense(4,activation=\"softmax\")(output6)\n",
        "# output = output3\n",
        "output = Concatenate()([output_1,output_2,output_3])\n",
        "output = BatchNormalization()(output)\n",
        "output = Dropout(0.2)(output)\n",
        "\n",
        "output = Dense(4,activation=\"softmax\")(output)"
      ],
      "execution_count": 0,
      "outputs": []
    },
    {
      "cell_type": "code",
      "metadata": {
        "colab_type": "code",
        "id": "1Rx-SS77J7kF",
        "colab": {}
      },
      "source": [
        "from keras.utils import plot_model\n",
        "model=Model(input,output)\n",
        "sub_model1 = Model(input,output_1)\n",
        "sub_model2 = Model(input,output_2)\n",
        "sub_model3 = Model(input,output_3)\n",
        "model.summary()\n",
        "plot_model(model)"
      ],
      "execution_count": 0,
      "outputs": []
    },
    {
      "cell_type": "code",
      "metadata": {
        "colab_type": "code",
        "id": "J-l-jeoL9M4E",
        "colab": {}
      },
      "source": [
        "# from keras.callbacks import EarlyStopping\n",
        "\n",
        "# from keras.callbacks import ReduceLROnPlateau\n",
        "# reduce_learning_rate = ReduceLROnPlateau(monitor='loss',\n",
        "#                                          factor=0.1,\n",
        "#                                          patience=6,\n",
        "#                                          cooldown=2,\n",
        "#                                          min_lr=0.0000001,\n",
        "#                                          verbose=1)\n",
        "\n",
        "\n",
        "# from keras.callbacks import ModelCheckpoint, EarlyStopping ,LearningRateScheduler\n",
        "# checkpoint = ModelCheckpoint(\"/content/drive/My Drive/models/model_combined_try_6_auto_tag_gala_images_try_2.h5\", monitor='val_acc', verbose=1, save_best_only=True, save_weights_only=False, mode='auto', period=1)\n",
        "# earlystopping = EarlyStopping(monitor='val_loss', min_delta=0, patience=20, verbose=1, mode='auto')\n",
        "# from keras.optimizers import Adam\n",
        "\n",
        "# optimizer = Adam(lr=0.01)\n",
        "# from keras import metrics\n",
        "\n",
        "# model.compile(loss=\"categorical_crossentropy\",optimizer=optimizer,\n",
        "#                 metrics=[\"acc\"])\n",
        "\n",
        "# history = model.fit_generator(\n",
        "#     datagen.flow(np.array(x_train_data),y_train_updated,batch_size=128), # Training Data\n",
        "#     shuffle=True,\n",
        "#     verbose=1,\n",
        "#     epochs=100,\n",
        "#     class_weight = class_weight.compute_class_weight('balanced',np.unique(y_train_data),y_train_data),\n",
        "#     callbacks=[checkpoint,reduce_learning_rate],\n",
        "#     validation_data= datagen.flow(np.array(x_test_data),y_test_updated,batch_size=128)\n",
        "#     )"
      ],
      "execution_count": 0,
      "outputs": []
    },
    {
      "cell_type": "code",
      "metadata": {
        "colab_type": "code",
        "id": "JKIPwM-Csqgz",
        "colab": {}
      },
      "source": [
        "# import matplotlib.pyplot as plt\n",
        "# plt.plot(history.history['acc'])\n",
        "# plt.plot(history.history['val_acc'])\n",
        "# plt.title('model accuracy')\n",
        "# plt.ylabel('accuracy')\n",
        "# plt.xlabel('epoch')\n",
        "# plt.legend(['train', 'test'], loc='upper left')\n",
        "# plt.show()\n",
        "\n",
        "# # summarize history for loss\n",
        "# plt.plot(history.history['loss'])\n",
        "# plt.plot(history.history['val_loss'])\n",
        "# plt.title('model loss')\n",
        "# plt.ylabel('loss')\n",
        "# plt.xlabel('epoch')\n",
        "# plt.legend(['train', 'test'], loc='upper left')\n",
        "# plt.show()"
      ],
      "execution_count": 0,
      "outputs": []
    },
    {
      "cell_type": "code",
      "metadata": {
        "colab_type": "code",
        "id": "XNjh2I4BCCO1",
        "colab": {}
      },
      "source": [
        "# from google.colab import drive\n",
        "# drive.mount('/content/drive')"
      ],
      "execution_count": 0,
      "outputs": []
    },
    {
      "cell_type": "code",
      "metadata": {
        "colab_type": "code",
        "id": "wTFy_Q6fGfQo",
        "colab": {}
      },
      "source": [
        "!git clone https://harsh_wh@bitbucket.org/harsh_wh/modelrepo.git"
      ],
      "execution_count": 0,
      "outputs": []
    },
    {
      "cell_type": "code",
      "metadata": {
        "colab_type": "code",
        "id": "DDUifEwumLqT",
        "colab": {}
      },
      "source": [
        "from keras.models import load_model\n",
        "model = load_model(\"modelrepo/model_combined_try_6_auto_tag_gala_images_try_2.h5\")"
      ],
      "execution_count": 0,
      "outputs": []
    },
    {
      "cell_type": "code",
      "metadata": {
        "colab_type": "code",
        "id": "YO9I6Dvpr2xl",
        "colab": {}
      },
      "source": [
        "!mkdir testing_images/\n",
        "\n",
        "!cp -rf dataset/Test\\ Images/ testing_images/test/\n",
        "\n",
        "from keras.preprocessing.image import ImageDataGenerator\n",
        "\n",
        "test_datagen = ImageDataGenerator(\n",
        "    rescale = 1. / 255,\n",
        "    featurewise_std_normalization=True,\n",
        "    )"
      ],
      "execution_count": 0,
      "outputs": []
    },
    {
      "cell_type": "code",
      "metadata": {
        "colab_type": "code",
        "id": "FYEFwsXrr2xw",
        "colab": {}
      },
      "source": [
        "from keras.preprocessing.image import img_to_array\n",
        "names =[]\n",
        "predictions = [] \n",
        "\n",
        "for image in os.listdir(\"testing_images/test\"):\n",
        "  if os.path.isdir(\"testing_images/test/\"+image):\n",
        "    continue\n",
        "\n",
        "  img = load_img(\"testing_images/test/\"+image)\n",
        "  img = img.resize((224,224))\n",
        "  img = img_to_array(img)\n",
        "  img = expand_dims(img,axis=0)\n",
        "  \n",
        "  names.append(image)\n",
        "  prediction = model.predict_generator(test_datagen.flow(np.array(img),batch_size=1,shuffle=False))\n",
        "  predictions.append(prediction[0])"
      ],
      "execution_count": 0,
      "outputs": []
    },
    {
      "cell_type": "code",
      "metadata": {
        "colab_type": "code",
        "id": "mzfEADwFr2x1",
        "colab": {}
      },
      "source": [
        "import numpy as np\n",
        "predictions_ = np.argmax(predictions,axis=1)\n",
        "np.array(predictions).shape"
      ],
      "execution_count": 0,
      "outputs": []
    },
    {
      "cell_type": "code",
      "metadata": {
        "colab_type": "code",
        "id": "HWnMxGXdr2x7",
        "colab": {}
      },
      "source": [
        "np.unique(predictions_,return_counts=True)"
      ],
      "execution_count": 0,
      "outputs": []
    },
    {
      "cell_type": "code",
      "metadata": {
        "colab_type": "code",
        "id": "xw1pB2xvr2yD",
        "colab": {}
      },
      "source": [
        "final = pd.DataFrame(list(zip(names,predictions_)),columns=['Image','Class'],index=None)"
      ],
      "execution_count": 0,
      "outputs": []
    },
    {
      "cell_type": "code",
      "metadata": {
        "colab_type": "code",
        "id": "crlCjdwlr2yI",
        "colab": {}
      },
      "source": [
        "final.Class = final.Class.apply(lambda x:encoder.inverse_transform([x])[0])"
      ],
      "execution_count": 0,
      "outputs": []
    },
    {
      "cell_type": "code",
      "metadata": {
        "colab_type": "code",
        "id": "DJCna29Kr2yN",
        "colab": {}
      },
      "source": [
        "final.to_csv(\"submission.csv\",index=None)"
      ],
      "execution_count": 0,
      "outputs": []
    },
    {
      "cell_type": "code",
      "metadata": {
        "colab_type": "code",
        "id": "eNwXVmOvzqul",
        "colab": {}
      },
      "source": [
        "# predictions\n",
        "pred_csv = pd.DataFrame(predictions)\n",
        "pred_csv['Image'] = names\n",
        "pred_csv.to_csv(\"combined_model_predictions_workers_with_pair_concatenation.csv\",index=None)"
      ],
      "execution_count": 0,
      "outputs": []
    },
    {
      "cell_type": "code",
      "metadata": {
        "colab_type": "code",
        "id": "bczOdKFQlvMk",
        "colab": {}
      },
      "source": [
        "sub_model1 = Model(input,output_1)\n",
        "sub_model2 = Model(input,output_2)\n",
        "sub_model3 = Model(input,output_3)\n",
        "sub_model1.summary()"
      ],
      "execution_count": 0,
      "outputs": []
    },
    {
      "cell_type": "code",
      "metadata": {
        "colab_type": "code",
        "id": "FF-gZk0CqrXc",
        "colab": {}
      },
      "source": [
        "if not os.path.exists(\"sub_model1.hdf5\"):\n",
        "    sub_model1.save_weights(\"sub_model1.hdf5\")\n",
        "else:\n",
        "    sub_model1.load_weights(\"sub_model1.hdf5\")\n",
        "\n",
        "if not os.path.exists(\"sub_model2.hdf5\"):\n",
        "    sub_model2.save_weights(\"sub_model2.hdf5\")\n",
        "else:\n",
        "    sub_model1.load_weights(\"sub_model1.hdf5\")\n",
        "\n",
        "if not os.path.exists(\"sub_model3.hdf5\"):\n",
        "    sub_model3.save_weights(\"sub_model3.hdf5\")\n",
        "else:\n",
        "    sub_model1.load_weights(\"sub_model1.hdf5\")"
      ],
      "execution_count": 0,
      "outputs": []
    },
    {
      "cell_type": "code",
      "metadata": {
        "colab_type": "code",
        "id": "Wty6SFod2UZ1",
        "colab": {}
      },
      "source": [
        "pred_1_train = sub_model1.predict_generator(datagen.flow(np.array(x_train_data),batch_size=1,shuffle=False))\n",
        "print(\"completed_prediction_1\")\n",
        "\n",
        "pred_2_train = sub_model2.predict_generator(datagen.flow(np.array(x_train_data),batch_size=1,shuffle=False))\n",
        "print(\"completed_prediction_2\")\n",
        "\n",
        "pred_3_train = sub_model3.predict_generator(datagen.flow(np.array(x_train_data),batch_size=1,shuffle=False))\n",
        "print(\"completed_prediction_3\")"
      ],
      "execution_count": 0,
      "outputs": []
    },
    {
      "cell_type": "code",
      "metadata": {
        "colab_type": "code",
        "id": "v7jc65UL00iG",
        "colab": {}
      },
      "source": [
        "train_x = pd.DataFrame(np.concatenate([pred_1_train,pred_2_train,pred_3_train],axis=1))\n",
        "train_x.head()\n",
        "train_x['Class'] = y_train_data\n",
        "train_x.to_csv(\"train_x.csv\",index=None)"
      ],
      "execution_count": 0,
      "outputs": []
    },
    {
      "cell_type": "code",
      "metadata": {
        "colab_type": "code",
        "id": "rpqNaSo_oCY-",
        "colab": {}
      },
      "source": [
        "pred_1_test = sub_model1.predict_generator(datagen.flow(np.array(x_test_data),batch_size=1,shuffle=False))\n",
        "print(\"completed_prediction_1\")\n",
        "\n",
        "pred_2_test = sub_model2.predict_generator(datagen.flow(np.array(x_test_data),batch_size=1,shuffle=False))\n",
        "print(\"completed_prediction_2\")\n",
        "\n",
        "pred_3_test = sub_model3.predict_generator(datagen.flow(np.array(x_test_data),batch_size=1,shuffle=False))\n",
        "print(\"completed_prediction_3\")"
      ],
      "execution_count": 0,
      "outputs": []
    },
    {
      "cell_type": "code",
      "metadata": {
        "colab_type": "code",
        "id": "FTWqE9U7p6K1",
        "colab": {}
      },
      "source": [
        "test_x = pd.DataFrame(np.concatenate([pred_1_test,pred_2_test,pred_3_test],axis=1))\n",
        "test_x.head()\n",
        "test_x['Class'] = y_test_data\n",
        "test_x.to_csv(\"test_x.csv\",index=None)"
      ],
      "execution_count": 0,
      "outputs": []
    },
    {
      "cell_type": "code",
      "metadata": {
        "colab_type": "code",
        "id": "blsPncfZ2ydN",
        "colab": {}
      },
      "source": [
        "import pandas as pd\n",
        "import numpy as np\n",
        "from xgboost import XGBClassifier\n",
        "train_x = pd.read_csv(\"train_x.csv\")\n",
        "test_x = pd.read_csv(\"test_x.csv\")\n",
        "model = XGBClassifier()\n",
        "X = train_x.drop(\"Class\",axis=1)\n",
        "Y = train_x[['Class']]\n",
        "X_test = test_x.drop(\"Class\",axis=1)\n",
        "Y_test = test_x[['Class']]"
      ],
      "execution_count": 0,
      "outputs": []
    },
    {
      "cell_type": "code",
      "metadata": {
        "colab_type": "code",
        "id": "fzRatCfo234d",
        "colab": {}
      },
      "source": [
        "model.fit(np.array(X),Y)\n",
        "model.score(np.array(X_test),Y_test)"
      ],
      "execution_count": 0,
      "outputs": []
    },
    {
      "cell_type": "code",
      "metadata": {
        "colab_type": "code",
        "id": "GfeRzCSL24y4",
        "colab": {}
      },
      "source": [
        "from sklearn.model_selection import RandomizedSearchCV,GridSearchCV\n",
        "params ={ \n",
        "    'booster' : [\"gbtree\",\"dart\"],\n",
        "    'colsample_bylevel': np.divide(list(range(80,102,5)),100),\n",
        "    'colsample_bynode': np.divide(list(range(80,102,5)),100),\n",
        "    'colsample_bytree': np.divide(list(range(80,102,5)),100),\n",
        "    'learning_rate': [0.01,0.05,0.1,0.15,0.2,0.25,0.3],\n",
        "    \"gamma\" :[0,0.000001,0.00001],\n",
        "    'max_depth': [2,3,4,5,6,7,8],\n",
        "    'n_estimators': [80,100,120,150,180,200,250,280,300,350,400,500],\n",
        "    'objective': ['multi:softprob'],\n",
        "    'random_state': [11],\n",
        "    \"min_child_weight\": [0,1,5,10,15,20],\n",
        "    'reg_alpha': [0,0.01,0.05,0.001,0.005],\n",
        "    'reg_lambda': [0.85,0.88,0.95,0.98,1],\n",
        "    'subsample': [0.8,0.85,0.9,0.95,1],\n",
        "    'verbosity': [1]\n",
        "    }"
      ],
      "execution_count": 0,
      "outputs": []
    },
    {
      "cell_type": "code",
      "metadata": {
        "colab_type": "code",
        "id": "3DawfaMi6SYv",
        "colab": {}
      },
      "source": [
        "xgb_model = XGBClassifier()\n",
        "random = RandomizedSearchCV(xgb_model,param_distributions=params,cv=5,n_iter=10,verbose=1,random_state=111)\n",
        "random.fit(np.array(X),Y)"
      ],
      "execution_count": 0,
      "outputs": []
    },
    {
      "cell_type": "code",
      "metadata": {
        "colab_type": "code",
        "id": "vTkMUz-nWGsY",
        "colab": {}
      },
      "source": [
        "print(random.score(np.array(X_test),Y_test))\n",
        "random.best_score_"
      ],
      "execution_count": 0,
      "outputs": []
    },
    {
      "cell_type": "code",
      "metadata": {
        "colab_type": "code",
        "id": "_qu5CMsBVsDL",
        "colab": {}
      },
      "source": [
        "# from sklearn.linear_model import LogisticRegression\n",
        "# from lightgbm import LGBMClassifier\n",
        "# from sklearn.ensemble import RandomForestClassifier , GradientBoostingClassifier\n",
        "# import warnings\n",
        "# warnings.filterwarnings(\"ignore\")\n",
        "\n",
        "\n",
        "# params_gradient={\n",
        "#     \"n_estimators\" : [80,100,120,200,250,280,300,350,400],\n",
        "#     \"subsample\" : [0.85,0.8,0.9,0.92,0.95,1],\n",
        "#     \"min_samples_split\" : [2,3,4,5,10,15],\n",
        "#     \"max_depth\":[2,3,4,5,6],\n",
        "#     \"learning_rate\":[0.25,0.2,0.15,0.1,0.01,0.05,0.001]\n",
        "# }\n",
        "# params_logisitc={\n",
        "#     \"max_iter\" : [100,150,200,250,300,350,400,450,500]\n",
        "# }\n",
        "\n",
        "# params_lgb = {\n",
        "#     \"num_leaves\": [100,150,200,225,250,280,300,350],\n",
        "#     \"max_depth\": [3,4,58,10,15,-1],\n",
        "#     \"learnign_rate\": [0.001,0.05,0.075,0.1,0.15,0.2,0.3,0.4],\n",
        "#     \"class_weight\": ['balanced'],\n",
        "#     \"reg_alpha\": [0.01,0.05,0.1,0.15,0.2],\n",
        "#     \"reg_lambda\": [0.01,0.05,0.1,0.15,0.2],\n",
        "#     \"random_state\": [111,123],\n",
        "#     \"subsample\": [0.85,0.88,0.9,0.92,0.95,1],\n",
        "#     \"min_split_gain\": [0,0.0001,0.0005,0.001]\n",
        "# }\n",
        "\n",
        "# gradient_model = LGBMClassifier()\n",
        "# # random_gradient = RandomizedSearchCV(gradient_model,param_distributions=params_lgb,cv=5,n_iter=10,verbose=1,random_state=111)\n",
        "# gradient_model.fit(X,Y)\n",
        "# gradient_model.score(X_test,Y_test)"
      ],
      "execution_count": 0,
      "outputs": []
    },
    {
      "cell_type": "code",
      "metadata": {
        "colab_type": "code",
        "id": "bfJqDHAX-j0G",
        "colab": {}
      },
      "source": [
        "from keras.preprocessing.image import img_to_array\n",
        "names_test =[]\n",
        "predictions_test = [] \n",
        "\n",
        "for image in os.listdir(\"testing_images/test\"):\n",
        "    if os.path.isdir(\"testing_images/test/\"+image):\n",
        "        continue\n",
        "\n",
        "    img = load_img(\"testing_images/test/\"+image)\n",
        "    img = img.resize((224,224))\n",
        "    img = img_to_array(img)\n",
        "    img = expand_dims(img,axis=0)\n",
        "\n",
        "    names_test.append(image)\n",
        "\n",
        "    prediction_1_test = sub_model1.predict_generator(test_datagen.flow(np.array(img),batch_size=1,shuffle=False))\n",
        "    prediction_2_test = sub_model2.predict_generator(test_datagen.flow(np.array(img),batch_size=1,shuffle=False))\n",
        "    prediction_3_test = sub_model3.predict_generator(test_datagen.flow(np.array(img),batch_size=1,shuffle=False))\n",
        "  \n",
        "    predictions_test.append(np.concatenate([prediction_1_test[0],prediction_2_test[0],prediction_3_test[0]],axis=0))"
      ],
      "execution_count": 0,
      "outputs": []
    },
    {
      "cell_type": "code",
      "metadata": {
        "colab_type": "code",
        "id": "QKViQvozCusK",
        "colab": {}
      },
      "source": [
        "testing = pd.DataFrame(predictions_test)\n",
        "# testing.shape\n",
        "predicted_probabilities = random.predict_proba(np.array(testing))\n",
        "pred_boosted_csv = pd.DataFrame(predicted_probabilities)\n",
        "pred_boosted_csv['Image'] = names_test\n",
        "pred_boosted_csv.to_csv(\"combined_model_xgboost_predictions_concatenate.csv\",index=None)\n",
        "testing = pd.DataFrame(predictions_test)\n",
        "testing.head()\n",
        "predictions_random = encoder.inverse_transform(random.predict(np.array(testing)))\n",
        "pd.DataFrame(list(zip(names_test,predictions_random)),columns=['Image',\"Class\"],index=None).to_csv(\"submission_random.csv\",index=None)"
      ],
      "execution_count": 0,
      "outputs": []
    },
    {
      "cell_type": "code",
      "metadata": {
        "colab_type": "code",
        "id": "dGMwSMq1_NzA",
        "colab": {}
      },
      "source": [
        "one = pd.read_csv(\"combined_model_predictions_workers_with_pair_concatenation.csv\")\n",
        "two = pd.read_csv(\"combined_model_xgboost_predictions_concatenate.csv\")\n",
        "\n",
        "def merge(one,two):\n",
        "    joined = one.merge(two,on=\"Image\")\n",
        "  \n",
        "    joined[\"0\"] = joined.apply(lambda x:(x[\"0_x\"]+x[\"0_y\"])/2,axis=1)\n",
        "    joined[\"1\"] = joined.apply(lambda x:(x[\"1_x\"]+x[\"1_y\"])/2,axis=1)\n",
        "    joined[\"2\"] = joined.apply(lambda x:(x[\"2_x\"]+x[\"2_y\"])/2,axis=1)\n",
        "    joined[\"3\"] = joined.apply(lambda x:(x[\"3_x\"]+x[\"3_y\"])/2,axis=1)\n",
        "\n",
        "    return joined[['0','1','2','3',\"Image\"]]\n",
        "\n",
        "joined = merge(one,two)\n",
        "m_predictions = np.array(joined[[\"0\",\"1\",\"2\",\"3\"]])\n",
        "\n",
        "m_csv = pd.DataFrame(m_predictions)\n",
        "m_csv['Image'] = names_test\n",
        "m_csv.to_csv(\"model_final_all.csv\",index=None)"
      ],
      "execution_count": 0,
      "outputs": []
    },
    {
      "cell_type": "code",
      "metadata": {
        "colab_type": "code",
        "id": "eQw3qkJzJnZ5",
        "colab": {}
      },
      "source": [
        "predictions_ = np.argmax(m_predictions,axis=1)\n",
        "final = pd.DataFrame(list(zip(names_test,predictions_)),columns=['Image','Class'],index=None)\n",
        "final.Class = final.Class.apply(lambda x:encoder.inverse_transform([x])[0])\n",
        "final.to_csv(\"final_submission.csv\",index=None)"
      ],
      "execution_count": 0,
      "outputs": []
    },
    {
      "cell_type": "code",
      "metadata": {
        "colab_type": "code",
        "id": "g6r2Ozbzb0uU",
        "colab": {}
      },
      "source": [
        ""
      ],
      "execution_count": 0,
      "outputs": []
    }
  ]
}